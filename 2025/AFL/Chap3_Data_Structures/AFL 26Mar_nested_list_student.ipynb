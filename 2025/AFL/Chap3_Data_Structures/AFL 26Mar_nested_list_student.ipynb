{
  "cells": [
    {
      "cell_type": "markdown",
      "metadata": {
        "id": "HRxGLYygw9xJ"
      },
      "source": [
        "Name your Jupyter Notebook as:\n",
        "\n",
        "`TASK1_<your name>.ipynb`\n",
        "\n",
        "The task is to process a square grid of integers (0-9) and identify patterns of 3 numbers that are consecutive (e.g. 012, 789)."
      ]
    },
    {
      "cell_type": "markdown",
      "metadata": {
        "id": "BpGRMjb7w9xL"
      },
      "source": [
        "For instance, given the following square grid of 5 integers:\n",
        "\n",
        "![5 x 5 square grid](square_grid_highlighted.png \"5 x 5 square grid\")\n",
        "\n",
        "We can identify 2 sets of 3 integers that are consecutive (ascending or descending)."
      ]
    },
    {
      "cell_type": "markdown",
      "metadata": {
        "id": "8SlEY4I2w9xM"
      },
      "source": [
        "For each of the sub-tasks, add a comment statement at the beginning of the code using the hash symbol ‘#’, to indicate the sub-task the program code belongs to, for example:"
      ]
    },
    {
      "cell_type": "markdown",
      "metadata": {
        "id": "0Tji5KwFw9xN"
      },
      "source": [
        "> `#Task 1.1`\\\n",
        "> Program code"
      ]
    },
    {
      "cell_type": "markdown",
      "metadata": {
        "id": "ef9isi_Zw9xO"
      },
      "source": [
        "## Task 1.1\n",
        "Create a 2-dimensional list `grid` where each row contains the integers of the sample square grid provided above."
      ]
    },
    {
      "cell_type": "code",
      "execution_count": 1,
      "metadata": {
        "id": "SymqrX_Sw9xQ"
      },
      "outputs": [],
      "source": [
        "#Jovie\n",
        "grid = [[6, 6, 8, 6, 7],\n",
        "        [0, 0, 3, 8, 0],\n",
        "        [6, 6, 6, 8, 7],\n",
        "        [9, 8, 7, 7, 9],\n",
        "        [4, 8, 8, 8, 3]]"
      ]
    },
    {
      "cell_type": "markdown",
      "metadata": {
        "id": "gHPPKjdVw9xR"
      },
      "source": [
        "## Task 1.2\n",
        "Write program code that counts the total occurrences of three consecutive integers (either in ascending or descending order) that appear horizontally or vertically in the given square grid from Task 1.1.\n",
        "\n",
        "Output the result with an appropriate statement. Your program should work for a $n \\times n$ square grid as well.\n"
      ]
    },
    {
      "cell_type": "code",
      "execution_count": 20,
      "metadata": {
        "colab": {
          "base_uri": "https://localhost:8080/"
        },
        "id": "mL0Szfclw9xR",
        "outputId": "e8612c6f-a7e3-4c9c-dd6a-009092509b45"
      },
      "outputs": [
        {
          "output_type": "stream",
          "name": "stdout",
          "text": [
            "[6, 1, 9, 8, 4]     [6, 5, 4, 5, 7]\n",
            "[5, 1, 8, 7, 6]     [1, 1, 8, 6, 0]\n",
            "[4, 8, 7, 2, 1]     [9, 8, 7, 6, 1]\n",
            "[5, 6, 6, 5, 2]     [8, 7, 2, 5, 2]\n",
            "[7, 0, 1, 2, 0]     [4, 6, 1, 2, 0]\n",
            "total occurence = 5, all occurences:\n",
            "[(6, 5, 4), (8, 7, 6), (8, 7, 6), (9, 8, 7), (0, 1, 2)]\n"
          ]
        }
      ],
      "source": [
        "\n",
        "def get_occurence_of_cosec(input_list):\n",
        "  no_of_occurence  = 0\n",
        "  set_of_occurence = set()\n",
        "  for index, item in enumerate(input_list):\n",
        "    if index > len(input_list) - 3:\n",
        "      break\n",
        "    if (item - input_list[index+1] == input_list[index+1] - input_list[index+2]) and (abs(item-input_list[index+1])):\n",
        "      no_of_occurence += 1\n",
        "      set_of_occurence.add((item, input_list[index+1], input_list[index+2]))\n",
        "  return no_of_occurence, set_of_occurence\n",
        "\n",
        "def main():\n",
        "  total_no_occurence  = 0\n",
        "  total_set_occurence = []\n",
        "  for column_index, row in enumerate(grid):\n",
        "    no_occurence_row, set_occurence_row = get_occurence_of_cosec(row)\n",
        "    total_no_occurence += no_occurence_row\n",
        "    total_set_occurence.extend(set_occurence_row)\n",
        "    print(row, end=\"     \")\n",
        "    column = []\n",
        "    for i in range(len(grid[0])):\n",
        "      column.append(grid[i][column_index])\n",
        "    print(column)\n",
        "    no_occurence_col, set_occurence_col = get_occurence_of_cosec(column)\n",
        "    total_no_occurence += no_occurence_col\n",
        "    total_set_occurence.extend(set_occurence_col)\n",
        "  print(f\"total occurence = {total_no_occurence}, all occurences:\\n{total_set_occurence}\")\n",
        "\n",
        "main()"
      ]
    },
    {
      "cell_type": "markdown",
      "metadata": {
        "id": "eYQ0YSTXw9xT"
      },
      "source": [
        "Test your program using the square grid below\n",
        "```python\n",
        "[6, 1, 9, 8, 4]\n",
        "[5, 1, 8, 7, 6]\n",
        "[4, 8, 7, 2, 1]\n",
        "[5, 6, 6, 5, 2]\n",
        "[7, 0, 1, 2, 0]\n",
        "```"
      ]
    },
    {
      "cell_type": "code",
      "source": [
        "grid = [\n",
        "    [6, 1, 9, 8, 4],\n",
        "    [5, 1, 8, 7, 6],\n",
        "    [4, 8, 7, 2, 1],\n",
        "    [5, 6, 6, 5, 2],\n",
        "    [7, 0, 1, 2, 0],]"
      ],
      "metadata": {
        "id": "uLk2HZEu4jHj"
      },
      "execution_count": 18,
      "outputs": []
    }
  ],
  "metadata": {
    "kernelspec": {
      "display_name": "Python 3",
      "language": "python",
      "name": "python3"
    },
    "language_info": {
      "codemirror_mode": {
        "name": "ipython",
        "version": 3
      },
      "file_extension": ".py",
      "mimetype": "text/x-python",
      "name": "python",
      "nbconvert_exporter": "python",
      "pygments_lexer": "ipython3",
      "version": "3.11.3"
    },
    "colab": {
      "provenance": []
    }
  },
  "nbformat": 4,
  "nbformat_minor": 0
}